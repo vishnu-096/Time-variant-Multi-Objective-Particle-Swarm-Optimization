{
  "nbformat": 4,
  "nbformat_minor": 0,
  "metadata": {
    "colab": {
      "provenance": [],
      "collapsed_sections": [],
      "include_colab_link": true
    },
    "kernelspec": {
      "name": "python3",
      "display_name": "Python 3"
    },
    "language_info": {
      "name": "python"
    }
  },
  "cells": [
    {
      "cell_type": "markdown",
      "metadata": {
        "id": "view-in-github",
        "colab_type": "text"
      },
      "source": [
        "<a href=\"https://colab.research.google.com/github/vishnu-096/Time-variant-Multi-Objective-Particle-Swarm-Optimization/blob/main/TV_MOPSO.ipynb\" target=\"_parent\"><img src=\"https://colab.research.google.com/assets/colab-badge.svg\" alt=\"Open In Colab\"/></a>"
      ]
    },
    {
      "cell_type": "code",
      "source": [
        "import matplotlib.animation as animation\n",
        "import matplotlib.pyplot as plt\n",
        "import numpy as np\n",
        "import math"
      ],
      "metadata": {
        "id": "uN8Bod57ZsV4"
      },
      "execution_count": null,
      "outputs": []
    },
    {
      "cell_type": "code",
      "source": [
        "def f1(x):\n",
        "  return np.square(x)\n",
        "\n",
        "def f2(x):\n",
        "  return np.square(x-2)"
      ],
      "metadata": {
        "id": "3n3NzYSmZwXV"
      },
      "execution_count": null,
      "outputs": []
    },
    {
      "cell_type": "code",
      "source": [
        "def get_nonDominated(prevSet,newPop):\n",
        "  pop = prevSet\n",
        "  if newPop is not None:\n",
        "    pop = np.concatenate((prevSet, newPop),axis=1)\n",
        "\n",
        "  pop = np.unique(pop)\n",
        "  pop = np.array([pop])\n",
        "  n = pop.shape[1]\n",
        "  l = []\n",
        "  for i in range(n):\n",
        "\n",
        "    for j in range(n):\n",
        "      if i != j:\n",
        "        if f1(pop[0,i]) >= f1(pop[0,j]) and f2(pop[0,i]) >= f2(pop[0,j]):\n",
        "          break\n",
        "        elif j == n-1:\n",
        "          l.append(pop[0,i])\n",
        "  return np.array([l]) "
      ],
      "metadata": {
        "id": "3uoMz0qhZzW2"
      },
      "execution_count": null,
      "outputs": []
    },
    {
      "cell_type": "code",
      "source": [
        "def get_gbest(pop):\n",
        "  return np.random.choice(pop[0,:], size=1)"
      ],
      "metadata": {
        "id": "h_s_7pv_qecQ"
      },
      "execution_count": null,
      "outputs": []
    },
    {
      "cell_type": "code",
      "source": [
        "def truncate_nonDominated(pop,n):\n",
        "  return np.random.choice(pop[0,:], size=(1,n))"
      ],
      "metadata": {
        "id": "-yLj01JD2Xjj"
      },
      "execution_count": null,
      "outputs": []
    },
    {
      "cell_type": "code",
      "source": [
        "def create_random_particles(number_of_particles, seed_value, x_low_lim, x_high_lim):\n",
        "  #np.random.seed(seed_value)\n",
        "  #X = np.random.rand(1, number_of_particles) * 5\n",
        "  #V = np.random.randn(1, number_of_particles) * 0.1\n",
        "  X = np.random.uniform(-2,5,[1,number_of_particles])\n",
        "  V = np.random.randn(1, number_of_particles) * 0.1\n",
        "  return X,V"
      ],
      "metadata": {
        "id": "MKe-WUNXbrkx"
      },
      "execution_count": null,
      "outputs": []
    },
    {
      "cell_type": "code",
      "source": [
        "def MOPSO(N,time,c1,c2,w):\n",
        "  # Initialize particle variables\n",
        "\n",
        "  x, v = create_random_particles(N,1,-10,10);\n",
        "  print('Initital Population X',x)\n",
        "  p_best = x\n",
        "\n",
        "  nonDominated = get_nonDominated(p_best, None)\n",
        "\n",
        "  g_best = get_gbest(nonDominated)\n",
        "\n",
        "  for t in range(time):\n",
        "    #print(t)\n",
        "    for i in range(N):\n",
        "      r1, r2 = np.random.rand(2)\n",
        "      # update position & velocity\n",
        "      v[:,i] = w*v[:,i] + c1*r1*(p_best[:,i] - x[:,i]) + c2*r2*(g_best- x[:,i])\n",
        "      x[:,i] += v[:,i]\n",
        "      # update pbest \n",
        "      if f1(x[:,i]) < f1(p_best[:,i]) and f2(x[:,i]) < f2(p_best[:,i]):\n",
        "        p_best[:,i] = x[:,i]\n",
        "\n",
        "    nonDominated = get_nonDominated(nonDominated, p_best)\n",
        "    if nonDominated.shape[1] > 50:\n",
        "      nonDominated = truncate_nonDominated(nonDominated, 50)\n",
        "    g_best = get_gbest(nonDominated)\n",
        "\n",
        "  return nonDominated,x"
      ],
      "metadata": {
        "id": "OSuv1S7To492"
      },
      "execution_count": null,
      "outputs": []
    },
    {
      "cell_type": "code",
      "source": [
        "def TV_MOPSO(N,maxT,c1f,c1i,c2f,c2i,w1,w2):\n",
        "  # Initialize particle variables\n",
        "\n",
        "  x, v = create_random_particles(N,1,-10,10);\n",
        "  print('Initital Population X',x)\n",
        "  p_best = x\n",
        "\n",
        "  nonDominated = get_nonDominated(p_best, None)\n",
        "\n",
        "  g_best = get_gbest(nonDominated)\n",
        "\n",
        "  for t in range(maxT):\n",
        "    #print(t)\n",
        "    for i in range(N):\n",
        "      #adjust parameters\n",
        "      r1, r2 = np.random.rand(2)\n",
        "      wt = (w1-w2) * (maxT-t)/maxT + w2\n",
        "      c1t = (c1f-c1i) * t/maxT + c1i\n",
        "      c2t = (c2f-c2i) * t/maxT + c2i\n",
        "\n",
        "      # update position & velocity\n",
        "      v[:,i] = wt*v[:,i] + c1t*r1*(p_best[:,i] - x[:,i]) + c2t*r2*(g_best- x[:,i])\n",
        "      x[:,i] += v[:,i]\n",
        "      # update pbest \n",
        "      if f1(x[:,i]) < f1(p_best[:,i]) and f2(x[:,i]) < f2(p_best[:,i]):\n",
        "        p_best[:,i] = x[:,i]\n",
        "\n",
        "    nonDominated = get_nonDominated(nonDominated, p_best)\n",
        "    if nonDominated.shape[1] > 50:\n",
        "      nonDominated = truncate_nonDominated(nonDominated, 50)\n",
        "    g_best = get_gbest(nonDominated)\n",
        "\n",
        "  return nonDominated,x"
      ],
      "metadata": {
        "id": "D1_WR11H9Nhn"
      },
      "execution_count": null,
      "outputs": []
    },
    {
      "cell_type": "code",
      "source": [
        "#Initial MOPSO Parameters\n",
        "N = 50\n",
        "t = 50\n",
        "c1 = c2 = 0.1\n",
        "w = 0.8\n",
        "\n",
        "frontier, finalX = MOPSO(N,t,c1,c2,w)\n",
        "print('frontier', frontier)\n",
        "print('x', finalX)\n",
        "\n",
        "plt.figure()\n",
        "plt.scatter(f1(finalX), f2(finalX))\n",
        "plt.figure()\n",
        "plt.scatter(finalX,f1(finalX))"
      ],
      "metadata": {
        "colab": {
          "base_uri": "https://localhost:8080/",
          "height": 989
        },
        "id": "2Hz3zj0Wmbb8",
        "outputId": "a1661e31-85af-4fdf-c6f6-6198eec7ef5f"
      },
      "execution_count": null,
      "outputs": [
        {
          "output_type": "stream",
          "name": "stdout",
          "text": [
            "Initital Population X [[-1.08552965 -1.15214492  1.23448321 -1.87331644  3.10307531  1.0617105\n",
            "  -0.7514761   2.58603464  4.77390499  0.5340382   2.04139864  0.79358645\n",
            "   4.11072494  2.26978992  4.5507752   3.44685768  4.16519212  0.95803224\n",
            "  -1.83253408 -1.41653228 -1.07508679  1.29056409  3.24428504  2.11706542\n",
            "  -1.88039235  4.36880784  2.14970567  2.6201092  -0.89170745 -1.43638302\n",
            "  -0.08666777  0.73947266  1.32729402  4.41445996  4.51804233 -1.44713541\n",
            "   4.69626047  3.43464804 -0.91557391  0.92671492  4.26834788 -1.26061555\n",
            "   4.72799055  4.38639217  1.8375415   4.56540007  0.86276158  1.09137259\n",
            "   2.56288524  2.57026284]]\n",
            "frontier [[1.11474178 1.11165567 1.10874505 1.10016786 1.11297918 1.10749895\n",
            "  1.09207167 1.11844761 1.11647395 1.08567057 1.09469477 1.1071987\n",
            "  1.10973982 1.10698201 1.09303043 1.10249718 1.10698201 1.10185235\n",
            "  1.11910944 1.10370453 1.11153541 1.07532728 1.0892803  1.11165567\n",
            "  1.07532728 1.11153541 1.09018134 1.10973982 1.09139557 1.08946565\n",
            "  1.0892803  1.10251014 1.10815019 1.09030106 1.11272162 1.08946565\n",
            "  1.08317839 1.08317839 1.11052822 1.10514292 1.11052822 1.10040312\n",
            "  1.10122668 1.09303043 1.10749895 1.10749895 1.11844568 1.09469477\n",
            "  1.10185235 1.10122668]]\n",
            "x [[1.09358896 1.10830873 1.1000892  1.10874505 1.10249718 1.11474178\n",
            "  1.12421498 1.0967381  1.09139557 1.10333269 1.10698201 1.10657504\n",
            "  1.0950032  1.10191994 1.08946565 1.0936073  1.09303043 1.09519848\n",
            "  1.09724145 1.11315105 1.11935689 1.07648903 1.08569413 1.10122668\n",
            "  1.1088258  1.10973982 1.10934331 1.0856874  1.1071987  1.107278\n",
            "  1.11297918 1.10370453 1.0984084  1.09272481 1.08567057 1.11228226\n",
            "  1.08177962 1.09832514 1.10864    1.1013422  1.10016786 1.11647395\n",
            "  1.09018134 1.08572826 1.09800545 1.0895484  1.10185235 1.10763452\n",
            "  1.11049808 1.0957406 ]]\n"
          ]
        },
        {
          "output_type": "execute_result",
          "data": {
            "text/plain": [
              "<matplotlib.collections.PathCollection at 0x7efd698aaa10>"
            ]
          },
          "metadata": {},
          "execution_count": 9
        },
        {
          "output_type": "display_data",
          "data": {
            "text/plain": [
              "<Figure size 432x288 with 1 Axes>"
            ],
            "image/png": "[encoded data removed]"
          },
          "metadata": {
            "needs_background": "light"
          }
        },
        {
          "output_type": "display_data",
          "data": {
            "text/plain": [
              "<Figure size 432x288 with 1 Axes>"
            ],
            "image/png": "[encoded data removed]"
          },
          "metadata": {
            "needs_background": "light"
          }
        }
      ]
    },
    {
      "cell_type": "code",
      "source": [
        "#Initial TVMOPSO Parameters\n",
        "N = 50\n",
        "maxT = 50\n",
        "c1f = 0.5\n",
        "c1i = 2.5\n",
        "c2f = 2.5\n",
        "c2i = 0.5\n",
        "w1 = 0.7\n",
        "w2 = 0.4\n",
        "\n",
        "frontier, finalX = TV_MOPSO(N,maxT,c1f,c1i,c2f,c2i,w1,w2)\n",
        "print('frontier', frontier)\n",
        "print('x', finalX)\n",
        "\n",
        "plt.figure()\n",
        "plt.scatter(f1(finalX), f2(finalX))\n",
        "plt.figure()\n",
        "plt.scatter(finalX,f1(finalX))"
      ],
      "metadata": {
        "colab": {
          "base_uri": "https://localhost:8080/",
          "height": 989
        },
        "id": "uFa5zT3q_m32",
        "outputId": "f76b65af-c4d5-425c-a572-ef28e95e1700"
      },
      "execution_count": null,
      "outputs": [
        {
          "output_type": "stream",
          "name": "stdout",
          "text": [
            "Initital Population X [[-0.02261755  0.48344288  0.64509299  2.16870542 -0.04840665  4.09424186\n",
            "   0.48752295 -1.34625207  1.08055739  0.44751208  2.36866337 -0.44988193\n",
            "   3.2174715   1.74027707  0.80775986  0.77314765  2.37480894  0.44644972\n",
            "  -1.27282949  2.5561621  -1.99238839  3.85598114  4.66662151 -0.22908454\n",
            "   3.21236065 -1.51265245  3.53009776 -1.91137328 -0.28771741 -1.22915144\n",
            "   2.36517046  1.97043347 -1.29005747  1.9471858  -1.1219105  -1.99804462\n",
            "  -0.12187536 -1.18866309  0.37345828  3.14711102 -0.97519544  0.97334495\n",
            "   4.56127365  4.58641764 -1.32944303  2.97350577 -0.69628318  0.82872966\n",
            "   2.24567936 -1.16466625]]\n",
            "frontier [[1.81699806 1.69626405 1.97013849 1.93782956 1.99766544 1.79878616\n",
            "  1.99769445 1.72173037 1.72173037 1.37229678 1.78863567 1.3648066\n",
            "  1.69498042 1.81830018 1.69626405 1.84084083 1.98769812 1.8849605\n",
            "  1.79023995 1.84084083 1.72755047 1.29245327 1.37586851 1.87413762\n",
            "  1.79878616 1.60910565 1.72641491 1.79507323 1.71707845 1.87413762\n",
            "  1.79023995 1.58856134 1.60031189 1.97013849 1.60910565 1.5050749\n",
            "  1.82061649 1.90667184 1.82061649 1.71697359 1.67139394 1.81830018\n",
            "  1.86269036 1.79507323 1.83746475 1.61091813 1.5203595  1.60910565\n",
            "  1.58856134 1.64518085]]\n",
            "x [[1.29245327 2.50497531 1.85168973 1.86797152 2.25295385 1.99766544\n",
            "  1.89008671 1.97120513 2.18223029 1.84084083 2.23723985 1.93746983\n",
            "  1.71697359 1.90667184 2.17115349 2.07192783 1.86269036 1.99769445\n",
            "  1.84078671 1.35097693 1.78863567 2.0649012  1.8849605  2.06928103\n",
            "  1.87413762 2.21217514 1.87021524 1.87022706 1.82103889 1.60031189\n",
            "  1.93902018 1.82061649 1.994308   1.86216926 2.14490649 1.9080762\n",
            "  1.55037794 2.02058607 1.70807697 1.83747027 1.81830018 1.81699806\n",
            "  1.3648066  2.71032116 1.99603505 1.92194377 3.08838293 1.55792045\n",
            "  1.59989454 2.10765278]]\n"
          ]
        },
        {
          "output_type": "execute_result",
          "data": {
            "text/plain": [
              "<matplotlib.collections.PathCollection at 0x7efd6382a2d0>"
            ]
          },
          "metadata": {},
          "execution_count": 10
        },
        {
          "output_type": "display_data",
          "data": {
            "text/plain": [
              "<Figure size 432x288 with 1 Axes>"
            ],
            "image/png": "[encoded data removed]"
          },
          "metadata": {
            "needs_background": "light"
          }
        },
        {
          "output_type": "display_data",
          "data": {
            "text/plain": [
              "<Figure size 432x288 with 1 Axes>"
            ],
            "image/png": "[encoded data removed]"
          },
          "metadata": {
            "needs_background": "light"
          }
        }
      ]
    },
    {
      "cell_type": "code",
      "source": [
        "def PSO(N,r1,r2,c1,c2,w,time):\n",
        "  # Initialize particle variables\n",
        "  x, v = create_random_particles(N,1,-5,5);\n",
        "  fitness_particle = f1(x)\n",
        "  p_best_x = x\n",
        "  p_best_val = fitness_particle\n",
        "\n",
        "  g_best_x = p_best_x[:, p_best_val.argmin()]\n",
        "  g_best_val = p_best_val.min()\n",
        "\n",
        "  for t in range(time):\n",
        "    for i in range(N):\n",
        "      # update position & velocity\n",
        "      v[:,i] = w*v[:,i] + c1*r1*(p_best_x[:,i] - x[:,i]) + c2*r2*(g_best_x - x[:,i])\n",
        "      x[:,i] += v[:,i]\n",
        "      # update best \n",
        "      f = f1(x[:,i])\n",
        "      if f < p_best_val[:,i]:\n",
        "        p_best_val[:,i] = f\n",
        "        p_best_x[:,i] = x[:,i]\n",
        "    g_best_x = p_best_x[:, p_best_val.argmin()]\n",
        "    g_best_val = p_best_val.min()\n",
        "  return g_best_x"
      ],
      "metadata": {
        "id": "6LXapiPI6ArU"
      },
      "execution_count": null,
      "outputs": []
    }
  ]
}